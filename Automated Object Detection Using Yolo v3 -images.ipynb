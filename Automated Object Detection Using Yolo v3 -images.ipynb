{
 "cells": [
  {
   "cell_type": "markdown",
   "metadata": {},
   "source": [
    "# Object Detection\n",
    "\n",
    "In this notebook I will be using the powerful YOLOv3 model to detect objects. Many of the ideas in this notebook are described in the YOLO v3 paper: Redmon et al., 2018 (https://arxiv.org/abs/1804.02767). THe particular model I will be using is YOLO trained on the COCO dataset.\n",
    "\n",
    "THe COCO dataset consits of 80 labels, including, but not limited to:\n",
    "\n",
    "* People\n",
    "* Bicycles\n",
    "* Cars and Trucks\n",
    "* Airplanes\n",
    "* Stop Signs and Fire Hydrants\n",
    "* Animals, including cats, dogs, birds, horses, cows, and sheep, to name a few\n",
    "* Kitchen and dining objects, such as wine glasses, cups, forks, knives, spoons, etx. \n",
    "* ...and much more!\n",
    "\n",
    "You can find a full list of what YOLO trained on the COCO dataset can detect using this link (https://github.com/pjreddie/darknet/blob/master/data/coco.names).\n",
    "\n",
    "**Objective**:\n",
    "- Use object detection on a car detection dataset\n",
    "- Deal with bounding boxes\n",
    "- Use object dection on various objects\n",
    "\n",
    "### Steps to Accomplish This:\n",
    "1. Define path to image we will train on and configuration files relevant to YOLO model (This step requires user input)\n",
    "2. Define Labels, colors for bounding boxes, and load YOLOv3 along with it's pretrained weights\n",
    "3. Load images and send through network\n",
    "4. Calculate object bounding boxes\n",
    "5. Apply non-max suppression to overlapping bounding boxes\n",
    "6. Display Image with Bouding Boxes"
   ]
  },
  {
   "cell_type": "code",
   "execution_count": 1,
   "metadata": {},
   "outputs": [],
   "source": [
    "# Import the required packages\n",
    "import numpy as np\n",
    "import argparse\n",
    "import time\n",
    "import cv2\n",
    "import os"
   ]
  },
  {
   "cell_type": "code",
   "execution_count": null,
   "metadata": {},
   "outputs": [],
   "source": [
    "#Function to request paths for image to train on and necessary YOLO model configuration files\n",
    "def enter_required_paths():\n",
    "    \n",
    "    image_path = input(\"Base path to Image we will train on \")\n",
    "    yolo_labels_path = input(\"Base path to YOLO stored labels , looking for coco.names \")\n",
    "    yolo_weights_path = input(\"Base path to YOLO pretrained weights, looking for yolov3.weights \")\n",
    "    yolo_config_path = input(\"Base path to YOLO configuration file, looking for yolov3.cfg \")\n",
    "    \n",
    "    return image_path,yolo_labels_path,yolo_weights_path,yolo_config_path"
   ]
  },
  {
   "cell_type": "code",
   "execution_count": null,
   "metadata": {
    "scrolled": false
   },
   "outputs": [],
   "source": [
    "#Initialize rrequired paths\n",
    "image_path,yolo_labels_path,yolo_weights_path,yolo_config_path = enter_required_paths()"
   ]
  },
  {
   "cell_type": "markdown",
   "metadata": {},
   "source": [
    "### Define Labels, colors for bounding boxes, and load YOLOv3 along with it's pretrained weights"
   ]
  },
  {
   "cell_type": "code",
   "execution_count": null,
   "metadata": {},
   "outputs": [],
   "source": [
    "#Define path to label, read file and store labels in 'LABELS'\n",
    "labelsPath = os.path.abspath(yolo_labels_path)\n",
    "classLabels = open(labelsPath).read().strip().split(\"\\n\")\n",
    "\n",
    "# # initialize a list of colors to represent each possible class label\n",
    "np.random.seed(42)\n",
    "classColors = np.random.randint(0,255, size=(len(classLabels),3),dtype=\"uint8\")"
   ]
  },
  {
   "cell_type": "code",
   "execution_count": null,
   "metadata": {},
   "outputs": [],
   "source": [
    "# derive the paths to the YOLO weights and model configuration\n",
    "weightsPath = os.path.abspath(yolo_weights_path)\n",
    "configPath = os.path.abspath(yolo_config_path)\n",
    " \n",
    "# load our YOLO object detector trained on COCO dataset (80 classes).\n",
    "#Using OpenCV's DNN function called cv2.dnn.readNetFromDarknet\n",
    "print(\"Loading YOLOv3 from disk...\")\n",
    "yolo_net = cv2.dnn.readNetFromDarknet(configPath, weightsPath)"
   ]
  },
  {
   "cell_type": "markdown",
   "metadata": {},
   "source": [
    "### Load images and send through network"
   ]
  },
  {
   "cell_type": "code",
   "execution_count": null,
   "metadata": {},
   "outputs": [],
   "source": [
    "# load our input image and grab its spatial dimensions (Don't need depth)\n",
    "image = cv2.imread(image_path)\n",
    "(H, W) = image.shape[:2]\n",
    " \n",
    "# determine only the *output* layer names that we need from YOLO\n",
    "ln_outer_names = yolo_net.getUnconnectedOutLayersNames()\n",
    "\n",
    "# ln = net.getLayerNames()\n",
    "# ln_outer_names = [ln[i[0] - 1] for i in net.getUnconnectedOutLayers()]\n",
    "    \n",
    "# construct a blob from the input image and then perform a forward\n",
    "# pass of the YOLO object detector, giving us our bounding boxes and\n",
    "# associated probabilities\n",
    "\n",
    "#OpenCV assumes images are in BGR channel order, however, the mean value assumes we are using RGB order.\n",
    "#To solve this discrepancy we can swap the R and B channels  using swapRB=True\n",
    "blob = cv2.dnn.blobFromImage(image, 1 / 255.0, (416, 416), swapRB = True, crop =False)\n",
    "\n",
    "#Initiate forward pass through our YOLO network and show inference time. \n",
    "\n",
    "#setInput sets the input to the pre-trained YOLO model\n",
    "yolo_net.setInput(blob)\n",
    "start = time.time()\n",
    "layerOutputs = yolo_net.forward(ln_outer_names)\n",
    "end = time.time()\n",
    " \n",
    "# show timing information on YOLO\n",
    "print(\"[INFO] YOLO took {:.6f} seconds\".format(end - start))"
   ]
  },
  {
   "cell_type": "markdown",
   "metadata": {},
   "source": [
    "### Side note on what blob[cv2.dnn.blobFromImage] is\n",
    "In context of deep learning and image classification, preprocessing taks normally involve:\n",
    "* Mean subtraction\n",
    "* Scaling by some factor\n",
    "\n",
    "OpenCV's new deep neural network (dnn) module contains two functions that can be used for preprocessing images and preparing them for classificaiton via pre-trained deep learning models\n",
    "\n",
    "There are two image preprocessing images from OpenCV\n",
    "* cv2.dnn.blobFromImage\n",
    "* cv2.dnn.blobFromImages\n",
    "\n",
    "These two functions perform \n",
    "1. Mean subtraction\n",
    "2. Scaling\n",
    "3. Optionally channel swapping\n",
    "\n",
    "Before beginning to train our network, we first compute the average pixel intensity across all images in the training set for each of the Red, Green, and Blue Channels resulting in MuR,MuG,MuB\n",
    "\n",
    "The pixel-wise method is often used for larger datasets\n",
    "\n",
    "When we are ready to pass an image through our network (whether for training or testing), we subtract the mean Mu,from each input channel of the input image\n",
    "\n",
    "* R = R - MuR\n",
    "* G = G - MuG\n",
    "* B = B - MuB\n",
    "\n",
    "We also ave a scaling factor sigma, which add in a normalization, sigma can be standard deviation across the training set (turning the preprocessing step into a standard score/z-score)\n",
    "\n",
    "* R = R - MuR/Sigma\n",
    "* G = G - MuG/Sigma\n",
    "* B = B - MuB/Sigma\n",
    "\n",
    "\n",
    "Now onto blobFromImages\n",
    "\n",
    "blobFromImage creates 4-dimensional blobs from an image. Optionally resizes and crops images from the center, subtracts mean values, scales values by scalefactor, swap Blue and Red Channels\n"
   ]
  },
  {
   "cell_type": "markdown",
   "metadata": {},
   "source": [
    "### Visualize output of our Model"
   ]
  },
  {
   "cell_type": "code",
   "execution_count": null,
   "metadata": {},
   "outputs": [],
   "source": [
    "# initialize our lists of detected bounding boxes, confidences, and class IDs, respectively\n",
    "boxes = []\n",
    "confidences = []\n",
    "classIDs = []"
   ]
  },
  {
   "cell_type": "code",
   "execution_count": null,
   "metadata": {
    "scrolled": true
   },
   "outputs": [],
   "source": [
    "minimum_probability = float(input(\"Please Enter Probability Threshold, typically '.5' \"))\n",
    "\n",
    "# loop over each of the layer outputs\n",
    "for output in layerOutputs:\n",
    "    # loop over each of the weightss\n",
    "    for weights in output:\n",
    "        # extract the class ID and confidence (i.e., probability) of the current object weights\n",
    "        scores = weights[5:]\n",
    "        \n",
    "        #Maximum classID present in scores\n",
    "        classID = np.argmax(scores)\n",
    "\n",
    "        confidence = scores[classID]\n",
    "\n",
    "        # filter out weak predictions by ensuring the detected\n",
    "        # probability is greater than the minimum probability\n",
    "        if confidence > minimum_probability:\n",
    "            # Scale the bounding box coordinates back relative to the size of the image.\n",
    "            #YOLO returns the center (x,y) coordinates of the bounding box followed by the boxes'\n",
    "            #width and height\n",
    "            box = weights[0:4] * np.array([W, H, W, H])\n",
    "            (centerX, centerY, width, height) = box.astype(\"int\")\n",
    "\n",
    "            #To find x and y intercept subtract width and heigh from center x,y coordinates\n",
    "            x = int(centerX - (width / 2))\n",
    "            y = int(centerY - (height / 2))\n",
    "\n",
    "            # update our list of bounding box coordinates, confidences, and class IDs\n",
    "            boxes.append([x, y, int(width), int(height)])\n",
    "            confidences.append(float(confidence))\n",
    "            classIDs.append(classID)"
   ]
  },
  {
   "cell_type": "markdown",
   "metadata": {},
   "source": [
    "Another way to visualize YOLO's output is to plot the bounding boxes that it outputs. Doing that results in a visualization like this:  \n",
    "\n",
    "<img src=\"images/anchor_map.png\" style=\"width:200px;height:200;\">\n",
    "Each cell gives you 5 boxes. In total, the model predicts: 19x19x5 = 1805 boxes just by looking once at the image (one forward pass through the network)! Different colors denote different classes. <br> </center></caption>\n",
    "\n",
    "In the figure above, we plotted only boxes that the model had assigned a high probability to, but this is still too many boxes. You'd like to filter the algorithm's output down to a much smaller number of detected objects. To do so, you'll use non-max suppression.\n",
    "\n",
    "### Note on Non-Max  Suppression\n",
    "The way NMS works is :\n",
    "* It first discards all those cells where probability of object being present (calculated in final softmax layer) is <= probability threshold\n",
    "* Then it takes the cell with largest probability among candidates for object as a prediction\n",
    "* Finally we discard any remaining cell with Intersection over union value >= 0.5 with the prediction cell."
   ]
  },
  {
   "cell_type": "code",
   "execution_count": null,
   "metadata": {},
   "outputs": [],
   "source": [
    "#Apply non-maxima suppression inorder to supress weak, overlapping bouding boxes to prevent\n",
    "idxs = cv2.dnn.NMSBoxes(boxes, confidences, .5,.3)"
   ]
  },
  {
   "cell_type": "code",
   "execution_count": null,
   "metadata": {},
   "outputs": [],
   "source": [
    "#Let’s draw the boxes and class text on the image!\n",
    "if len(idxs) > 0:\n",
    "    # loop over the indexes we are keeping\n",
    "    for i in idxs.flatten():\n",
    "        # extract the bounding box coordinates\n",
    "        (x, y) = (boxes[i][0], boxes[i][1])\n",
    "        (w, h) = (boxes[i][2], boxes[i][3])\n",
    " \n",
    "        # draw a bounding box rectangle and label on the image\n",
    "        color = [int(c) for c in classColors[classIDs[i]]]\n",
    "        cv2.rectangle(image, (x, y), (x + w, y + h), color, 2)\n",
    "        text = \"{}: {:.4f}\".format(classLabels[classIDs[i]], confidences[i])\n",
    "        cv2.putText(image, text, (x, y - 5), cv2.FONT_HERSHEY_SIMPLEX,0.5, color, 2)\n",
    " \n",
    "# Save the image to file\n",
    "file_name = input(\"Name of trained image, 'Example: car_trained.jpg' with bounded boxes? To be save to images folder:  \")\n",
    "trained_image = cv2.imwrite(\"./images/\"+file_name,image)\n"
   ]
  },
  {
   "cell_type": "code",
   "execution_count": null,
   "metadata": {},
   "outputs": [],
   "source": [
    "from IPython.display import Image\n",
    "Image(\"./images/\"+file_name) "
   ]
  }
 ],
 "metadata": {
  "kernelspec": {
   "display_name": "Python [conda env:dl_detection]",
   "language": "python",
   "name": "conda-env-dl_detection-py"
  },
  "language_info": {
   "codemirror_mode": {
    "name": "ipython",
    "version": 3
   },
   "file_extension": ".py",
   "mimetype": "text/x-python",
   "name": "python",
   "nbconvert_exporter": "python",
   "pygments_lexer": "ipython3",
   "version": "3.7.3"
  }
 },
 "nbformat": 4,
 "nbformat_minor": 2
}
