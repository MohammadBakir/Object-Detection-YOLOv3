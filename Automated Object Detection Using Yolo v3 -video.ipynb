{
 "cells": [
  {
   "cell_type": "markdown",
   "metadata": {},
   "source": [
    "# Object Detection\n",
    "\n",
    "In this notebook I will be using the powerful YOLOv3 model to detect objects. Many of the ideas in this notebook are described in the YOLO v3 paper: Redmon et al., 2018 (https://arxiv.org/abs/1804.02767). THe particular model I will be using is YOLO trained on the COCO dataset.\n",
    "\n",
    "THe COCO dataset consits of 80 labels, including, but not limited to:\n",
    "\n",
    "* People\n",
    "* Bicycles\n",
    "* Cars and Trucks\n",
    "* Airplanes\n",
    "* Stop Signs and Fire Hydrants\n",
    "* Animals, including cats, dogs, birds, horses, cows, and sheep, to name a few\n",
    "* Kitchen and dining objects, such as wine glasses, cups, forks, knives, spoons, etx. \n",
    "* ...and much more!\n",
    "\n",
    "You can find a full list of what YOLO trained on the COCO dataset can detect using this link (https://github.com/pjreddie/darknet/blob/master/data/coco.names).\n",
    "\n",
    "**Objective**:\n",
    "- Use object detection on a car detection dataset\n",
    "- Deal with bounding boxes\n",
    "- Use object dection on various objects\n",
    "\n",
    "### Steps to Accomplish This:\n",
    "1. Define path to image we will train on and configuration files relevant to YOLO model (This step requires user input)\n",
    "2. Define Labels, colors for bounding boxes, and load YOLOv3 along with it's pretrained weights\n",
    "3. Load images and send through network\n",
    "4. Calculate object bounding boxes\n",
    "5. Apply non-max suppression to overlapping bounding boxes\n",
    "6. Display Image with Bouding Boxes"
   ]
  },
  {
   "cell_type": "code",
   "execution_count": 1,
   "metadata": {},
   "outputs": [],
   "source": [
    "# Import the required packages\n",
    "import numpy as np\n",
    "import argparse\n",
    "import time\n",
    "import cv2\n",
    "import os"
   ]
  },
  {
   "cell_type": "code",
   "execution_count": 2,
   "metadata": {},
   "outputs": [],
   "source": [
    "#Function to request paths for video to train on and necessary YOLO model configuration files\n",
    "def enter_required_paths():\n",
    "    \n",
    "    video_path = input(\"Base path to Image we will train on \")\n",
    "    yolo_labels_path = input(\"Base path to YOLO stored labels , looking for coco.names \")\n",
    "    yolo_weights_path = input(\"Base path to YOLO pretrained weights, looking for yolov3.weights \")\n",
    "    yolo_config_path = input(\"Base path to YOLO configuration file, looking for yolov3.cfg \")\n",
    "    \n",
    "    return video_path,yolo_labels_path,yolo_weights_path,yolo_config_path"
   ]
  },
  {
   "cell_type": "code",
   "execution_count": 3,
   "metadata": {},
   "outputs": [
    {
     "name": "stdout",
     "output_type": "stream",
     "text": [
      "Base path to Image we will train on ./video/overpass.mp4\n",
      "Base path to YOLO stored labels , looking for coco.names yolo-coco/coco.names\n",
      "Base path to YOLO pretrained weights, looking for yolov3.weights yolo-coco/yolov3.weights\n",
      "Base path to YOLO configuration file, looking for yolov3.cfg yolo-coco/yolov3.cfg\n"
     ]
    }
   ],
   "source": [
    "#Initialize rrequired paths\n",
    "video_path,yolo_labels_path,yolo_weights_path,yolo_config_path = enter_required_paths()"
   ]
  },
  {
   "cell_type": "markdown",
   "metadata": {},
   "source": [
    "### Define Labels, colors for bounding boxes, and load YOLOv3 along with it's pretrained weights"
   ]
  },
  {
   "cell_type": "code",
   "execution_count": 4,
   "metadata": {},
   "outputs": [],
   "source": [
    "#Define path to label, read file and store labels in 'LABELS'\n",
    "labelsPath = os.path.abspath(yolo_labels_path)\n",
    "classLabels = open(labelsPath).read().strip().split(\"\\n\")\n",
    "\n",
    "# # initialize a list of colors to represent each possible class label\n",
    "np.random.seed(42)\n",
    "classColors = np.random.randint(0,255, size=(len(classLabels),3),dtype=\"uint8\")"
   ]
  },
  {
   "cell_type": "code",
   "execution_count": 17,
   "metadata": {},
   "outputs": [
    {
     "name": "stdout",
     "output_type": "stream",
     "text": [
      "Loading YOLOv3 from disk...\n"
     ]
    }
   ],
   "source": [
    "# derive the paths to the YOLO weights and model configuration\n",
    "weightsPath = os.path.abspath(yolo_weights_path)\n",
    "configPath = os.path.abspath(yolo_config_path)\n",
    " \n",
    "# load our YOLO object detector trained on COCO dataset (80 classes).\n",
    "#Using OpenCV's DNN function called cv2.dnn.readNetFromDarknet\n",
    "print(\"Loading YOLOv3 from disk...\")\n",
    "yolo_net = cv2.dnn.readNetFromDarknet(configPath, weightsPath)\n",
    "\n",
    "# determine only the *output* layer names that we need from YOLO\n",
    "ln_outer_names = yolo_net.getUnconnectedOutLayersNames()"
   ]
  },
  {
   "cell_type": "markdown",
   "metadata": {},
   "source": [
    "### Load Video and send through network"
   ]
  },
  {
   "cell_type": "code",
   "execution_count": 40,
   "metadata": {
    "scrolled": true
   },
   "outputs": [
    {
     "name": "stdout",
     "output_type": "stream",
     "text": [
      "Base path to video we will train on /home/mohammad/Documents/Deeplearning_ai/Projects/Object Detection/videos/road_video.mp4\n"
     ]
    }
   ],
   "source": [
    "video_path = input(\"Base path to video we will train on \")"
   ]
  },
  {
   "cell_type": "code",
   "execution_count": 41,
   "metadata": {},
   "outputs": [
    {
     "name": "stdout",
     "output_type": "stream",
     "text": [
      "Output path for video we train on /home/mohammad/Documents/Deeplearning_ai/Projects/Object Detection/output/road_video.avi\n"
     ]
    }
   ],
   "source": [
    "output_path = input(\"Output path for video we train on \")"
   ]
  },
  {
   "cell_type": "code",
   "execution_count": 42,
   "metadata": {},
   "outputs": [],
   "source": [
    "# initialize the video stream, pointer to output video file, and\n",
    "# frame dimensions\n",
    "\n",
    "#Open a file point to the video file for reading frames\n",
    "vs = cv2.VideoCapture(video_path)\n",
    "\n",
    "#Intialize Video Writer and Frame Dimensions\n",
    "writer = None\n",
    "(W, H) = (None, None)"
   ]
  },
  {
   "cell_type": "code",
   "execution_count": 43,
   "metadata": {},
   "outputs": [],
   "source": [
    "# loop over frames from the video file stream\n",
    "while True:\n",
    "    # read the next frame from the file\n",
    "    (grabbed, frame) = vs.read()\n",
    "\n",
    "    # if the frame was not grabbed, then we have reached the end\n",
    "    # of the stream\n",
    "    if not grabbed:\n",
    "        break\n",
    "\n",
    "    # if the frame dimensions are empty, grab them\n",
    "    if W is None or H is None:\n",
    "        (H, W) = frame.shape[:2]\n",
    "\n",
    "    # construct a blob from the input frame and then perform a forward\n",
    "    # pass of the YOLO object detector, giving us our bounding boxes\n",
    "    # and associated probabilities\n",
    "    blob = cv2.dnn.blobFromImage(frame, 1 / 255.0, (416, 416),\n",
    "        swapRB=True, crop=False)\n",
    "    yolo_net.setInput(blob)\n",
    "    start = time.time()\n",
    "    layerOutputs = yolo_net.forward(ln_outer_names)\n",
    "    end = time.time()\n",
    "\n",
    "    # initialize our lists of detected bounding boxes, confidences,\n",
    "    # and class IDs, respectively\n",
    "    boxes = []\n",
    "    confidences = []\n",
    "    classIDs = []\n",
    "\n",
    "    # loop over each of the layer outputs\n",
    "    for output in layerOutputs:\n",
    "        # loop over each of the detections\n",
    "        for detection in output:\n",
    "            # extract the class ID and confidence (i.e., probability)\n",
    "            #Number of current Object Detection\n",
    "            scores = detection[5:]\n",
    "            classID = np.argmax(scores)\n",
    "            confidence = scores[classID]\n",
    "\n",
    "            # filter out weak predictions by ensuring the detected\n",
    "            # probability is greater than the minimum probability\n",
    "            if confidence > 0.5:\n",
    "                # scale the bounding box coordinates back relative to\n",
    "                # the size of the image, keeping in mind that YOLO\n",
    "                # actually returns the center (x, y)-coordinates of\n",
    "                # the bounding box followed by the boxes' width and\n",
    "                # height\n",
    "                box = detection[0:4] * np.array([W, H, W, H])\n",
    "                (centerX, centerY, width, height) = box.astype(\"int\")\n",
    "\n",
    "                # use the center (x, y)-coordinates to derive the top\n",
    "                # and and left corner of the bounding box\n",
    "                x = int(centerX - (width / 2))\n",
    "                y = int(centerY - (height / 2))\n",
    "\n",
    "                # update our list of bounding box coordinates,\n",
    "                # confidences, and class IDs\n",
    "                boxes.append([x, y, int(width), int(height)])\n",
    "                confidences.append(float(confidence))\n",
    "                classIDs.append(classID)\n",
    "\n",
    "    # apply non-maxima suppression to suppress weak, overlapping\n",
    "    # bounding boxes\n",
    "    idxs = cv2.dnn.NMSBoxes(boxes, confidences, 0.5,\n",
    "        0.3)\n",
    "\n",
    "    # ensure at least one detection exists\n",
    "    if len(idxs) > 0:\n",
    "        # loop over the indexes we are keeping\n",
    "        for i in idxs.flatten():\n",
    "            # extract the bounding box coordinates\n",
    "            (x, y) = (boxes[i][0], boxes[i][1])\n",
    "            (w, h) = (boxes[i][2], boxes[i][3])\n",
    "\n",
    "            # draw a bounding box rectangle and label on the frame\n",
    "            color = [int(c) for c in classColors[classIDs[i]]]\n",
    "            cv2.rectangle(frame, (x, y), (x + w, y + h), color, 2)\n",
    "            text = \"{}: {:.4f}\".format(classLabels[classIDs[i]],\n",
    "                confidences[i])\n",
    "            cv2.putText(frame, text, (x, y - 5),\n",
    "                cv2.FONT_HERSHEY_SIMPLEX, 0.5, color, 2)\n",
    "\n",
    "    # check if the video writer is None\n",
    "    if writer is None:\n",
    "        # initialize our video writer\n",
    "        fourcc = cv2.VideoWriter_fourcc(*\"MJPG\")\n",
    "        writer = cv2.VideoWriter(output_path, fourcc, 30,\n",
    "            (frame.shape[1], frame.shape[0]), True)\n",
    "\n",
    "        # some information on processing single frame\n",
    "        if total > 0:\n",
    "            elap = (end - start)\n",
    "            print(\"[INFO] single frame took {:.4f} seconds\".format(elap))\n",
    "            print(\"[INFO] estimated total time to finish: {:.4f}\".format(\n",
    "                elap * total))\n",
    "\n",
    "    # write the output frame to disk\n",
    "    writer.write(frame)"
   ]
  }
 ],
 "metadata": {
  "kernelspec": {
   "display_name": "Python [conda env:dl_detection]",
   "language": "python",
   "name": "conda-env-dl_detection-py"
  },
  "language_info": {
   "codemirror_mode": {
    "name": "ipython",
    "version": 3
   },
   "file_extension": ".py",
   "mimetype": "text/x-python",
   "name": "python",
   "nbconvert_exporter": "python",
   "pygments_lexer": "ipython3",
   "version": "3.7.3"
  }
 },
 "nbformat": 4,
 "nbformat_minor": 2
}
