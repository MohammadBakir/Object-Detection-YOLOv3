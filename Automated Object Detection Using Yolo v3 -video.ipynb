{
 "cells": [
  {
   "cell_type": "markdown",
   "metadata": {},
   "source": [
    "# Object Detection\n",
    "\n",
    "In this notebook I will be using the powerful YOLOv3 model to detect objects. Many of the ideas in this notebook are described in the YOLO v3 paper: Redmon et al., 2018 (https://arxiv.org/abs/1804.02767). THe particular model I will be using is YOLO trained on the COCO dataset.\n",
    "\n",
    "THe COCO dataset consits of 80 labels, including, but not limited to:\n",
    "\n",
    "* People\n",
    "* Bicycles\n",
    "* Cars and Trucks\n",
    "* Airplanes\n",
    "* Stop Signs and Fire Hydrants\n",
    "* Animals, including cats, dogs, birds, horses, cows, and sheep, to name a few\n",
    "* Kitchen and dining objects, such as wine glasses, cups, forks, knives, spoons, etx. \n",
    "* ...and much more!\n",
    "\n",
    "You can find a full list of what YOLO trained on the COCO dataset can detect using this link (https://github.com/pjreddie/darknet/blob/master/data/coco.names).\n",
    "\n",
    "**Objective**:\n",
    "- Use object detection on a car detection dataset\n",
    "- Deal with bounding boxes\n",
    "- Use object dection on various objects"
   ]
  },
  {
   "cell_type": "markdown",
   "metadata": {},
   "source": [
    "### Import required packages"
   ]
  },
  {
   "cell_type": "code",
   "execution_count": null,
   "metadata": {},
   "outputs": [],
   "source": [
    "#"
   ]
  }
 ],
 "metadata": {
  "kernelspec": {
   "display_name": "Python [conda env:deeplearning]",
   "language": "python",
   "name": "conda-env-deeplearning-py"
  },
  "language_info": {
   "codemirror_mode": {
    "name": "ipython",
    "version": 3
   },
   "file_extension": ".py",
   "mimetype": "text/x-python",
   "name": "python",
   "nbconvert_exporter": "python",
   "pygments_lexer": "ipython3",
   "version": "3.7.3"
  }
 },
 "nbformat": 4,
 "nbformat_minor": 2
}
